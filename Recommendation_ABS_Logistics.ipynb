{
 "cells": [
  {
   "cell_type": "code",
   "execution_count": 1,
   "id": "ab3e3438",
   "metadata": {},
   "outputs": [],
   "source": [
    "import pandas as pd\n",
    "import numpy as np\n",
    "import matplotlib.pyplot as plt\n",
    "%matplotlib inline\n",
    "\n",
    "import re\n",
    "from time import time\n",
    "import nltk\n",
    "from nltk.corpus import stopwords\n",
    "from nltk.stem.wordnet import WordNetLemmatizer\n",
    "from nltk.tokenize import sent_tokenize, word_tokenize\n",
    "\n",
    "from gensim.models.doc2vec import Doc2Vec, TaggedDocument\n",
    "from sklearn.model_selection import train_test_split\n",
    "\n",
    "from sklearn.linear_model import LogisticRegression\n",
    "from sklearn.svm import LinearSVC\n",
    "from sklearn.metrics import confusion_matrix, accuracy_score, classification_report, f1_score\n",
    "import transformers\n",
    "from transformers import AutoTokenizer,TFDistilBertModel, DistilBertConfig\n",
    "from transformers import TFAutoModel"
   ]
  },
  {
   "cell_type": "code",
   "execution_count": 2,
   "id": "721f226f",
   "metadata": {},
   "outputs": [
    {
     "name": "stdout",
     "output_type": "stream",
     "text": [
      "Requirement already satisfied: tensorflow in c:\\users\\pshukla\\anaconda3\\lib\\site-packages (2.11.0)\n",
      "Requirement already satisfied: tensorflow-intel==2.11.0 in c:\\users\\pshukla\\anaconda3\\lib\\site-packages (from tensorflow) (2.11.0)\n",
      "Requirement already satisfied: opt-einsum>=2.3.2 in c:\\users\\pshukla\\anaconda3\\lib\\site-packages (from tensorflow-intel==2.11.0->tensorflow) (3.3.0)\n",
      "Requirement already satisfied: gast<=0.4.0,>=0.2.1 in c:\\users\\pshukla\\anaconda3\\lib\\site-packages (from tensorflow-intel==2.11.0->tensorflow) (0.4.0)\n",
      "Requirement already satisfied: astunparse>=1.6.0 in c:\\users\\pshukla\\anaconda3\\lib\\site-packages (from tensorflow-intel==2.11.0->tensorflow) (1.6.3)\n",
      "Requirement already satisfied: google-pasta>=0.1.1 in c:\\users\\pshukla\\anaconda3\\lib\\site-packages (from tensorflow-intel==2.11.0->tensorflow) (0.2.0)\n",
      "Requirement already satisfied: h5py>=2.9.0 in c:\\users\\pshukla\\anaconda3\\lib\\site-packages (from tensorflow-intel==2.11.0->tensorflow) (3.7.0)\n",
      "Requirement already satisfied: flatbuffers>=2.0 in c:\\users\\pshukla\\anaconda3\\lib\\site-packages (from tensorflow-intel==2.11.0->tensorflow) (23.1.21)\n",
      "Requirement already satisfied: numpy>=1.20 in c:\\users\\pshukla\\anaconda3\\lib\\site-packages (from tensorflow-intel==2.11.0->tensorflow) (1.21.5)\n",
      "Requirement already satisfied: packaging in c:\\users\\pshukla\\anaconda3\\lib\\site-packages (from tensorflow-intel==2.11.0->tensorflow) (21.3)\n",
      "Requirement already satisfied: tensorflow-io-gcs-filesystem>=0.23.1 in c:\\users\\pshukla\\anaconda3\\lib\\site-packages (from tensorflow-intel==2.11.0->tensorflow) (0.30.0)\n",
      "Requirement already satisfied: protobuf<3.20,>=3.9.2 in c:\\users\\pshukla\\anaconda3\\lib\\site-packages (from tensorflow-intel==2.11.0->tensorflow) (3.19.6)\n",
      "Requirement already satisfied: six>=1.12.0 in c:\\users\\pshukla\\anaconda3\\lib\\site-packages (from tensorflow-intel==2.11.0->tensorflow) (1.16.0)\n",
      "Requirement already satisfied: setuptools in c:\\users\\pshukla\\anaconda3\\lib\\site-packages (from tensorflow-intel==2.11.0->tensorflow) (63.4.1)\n",
      "Requirement already satisfied: keras<2.12,>=2.11.0 in c:\\users\\pshukla\\anaconda3\\lib\\site-packages (from tensorflow-intel==2.11.0->tensorflow) (2.11.0)\n",
      "Requirement already satisfied: libclang>=13.0.0 in c:\\users\\pshukla\\anaconda3\\lib\\site-packages (from tensorflow-intel==2.11.0->tensorflow) (15.0.6.1)\n",
      "Requirement already satisfied: tensorflow-estimator<2.12,>=2.11.0 in c:\\users\\pshukla\\anaconda3\\lib\\site-packages (from tensorflow-intel==2.11.0->tensorflow) (2.11.0)\n",
      "Requirement already satisfied: wrapt>=1.11.0 in c:\\users\\pshukla\\anaconda3\\lib\\site-packages (from tensorflow-intel==2.11.0->tensorflow) (1.14.1)\n",
      "Requirement already satisfied: typing-extensions>=3.6.6 in c:\\users\\pshukla\\anaconda3\\lib\\site-packages (from tensorflow-intel==2.11.0->tensorflow) (4.3.0)\n",
      "Requirement already satisfied: grpcio<2.0,>=1.24.3 in c:\\users\\pshukla\\anaconda3\\lib\\site-packages (from tensorflow-intel==2.11.0->tensorflow) (1.51.1)\n",
      "Requirement already satisfied: termcolor>=1.1.0 in c:\\users\\pshukla\\anaconda3\\lib\\site-packages (from tensorflow-intel==2.11.0->tensorflow) (2.2.0)\n",
      "Requirement already satisfied: tensorboard<2.12,>=2.11 in c:\\users\\pshukla\\anaconda3\\lib\\site-packages (from tensorflow-intel==2.11.0->tensorflow) (2.11.2)\n",
      "Requirement already satisfied: absl-py>=1.0.0 in c:\\users\\pshukla\\anaconda3\\lib\\site-packages (from tensorflow-intel==2.11.0->tensorflow) (1.4.0)\n",
      "Requirement already satisfied: wheel<1.0,>=0.23.0 in c:\\users\\pshukla\\anaconda3\\lib\\site-packages (from astunparse>=1.6.0->tensorflow-intel==2.11.0->tensorflow) (0.37.1)\n",
      "Requirement already satisfied: google-auth<3,>=1.6.3 in c:\\users\\pshukla\\anaconda3\\lib\\site-packages (from tensorboard<2.12,>=2.11->tensorflow-intel==2.11.0->tensorflow) (2.16.0)\n",
      "Requirement already satisfied: tensorboard-plugin-wit>=1.6.0 in c:\\users\\pshukla\\anaconda3\\lib\\site-packages (from tensorboard<2.12,>=2.11->tensorflow-intel==2.11.0->tensorflow) (1.8.1)\n",
      "Requirement already satisfied: tensorboard-data-server<0.7.0,>=0.6.0 in c:\\users\\pshukla\\anaconda3\\lib\\site-packages (from tensorboard<2.12,>=2.11->tensorflow-intel==2.11.0->tensorflow) (0.6.1)\n",
      "Requirement already satisfied: werkzeug>=1.0.1 in c:\\users\\pshukla\\anaconda3\\lib\\site-packages (from tensorboard<2.12,>=2.11->tensorflow-intel==2.11.0->tensorflow) (2.0.3)\n",
      "Requirement already satisfied: markdown>=2.6.8 in c:\\users\\pshukla\\anaconda3\\lib\\site-packages (from tensorboard<2.12,>=2.11->tensorflow-intel==2.11.0->tensorflow) (3.3.4)\n",
      "Requirement already satisfied: requests<3,>=2.21.0 in c:\\users\\pshukla\\anaconda3\\lib\\site-packages (from tensorboard<2.12,>=2.11->tensorflow-intel==2.11.0->tensorflow) (2.28.1)\n",
      "Requirement already satisfied: google-auth-oauthlib<0.5,>=0.4.1 in c:\\users\\pshukla\\anaconda3\\lib\\site-packages (from tensorboard<2.12,>=2.11->tensorflow-intel==2.11.0->tensorflow) (0.4.6)\n",
      "Requirement already satisfied: pyparsing!=3.0.5,>=2.0.2 in c:\\users\\pshukla\\anaconda3\\lib\\site-packages (from packaging->tensorflow-intel==2.11.0->tensorflow) (3.0.9)\n",
      "Requirement already satisfied: pyasn1-modules>=0.2.1 in c:\\users\\pshukla\\anaconda3\\lib\\site-packages (from google-auth<3,>=1.6.3->tensorboard<2.12,>=2.11->tensorflow-intel==2.11.0->tensorflow) (0.2.8)\n",
      "Requirement already satisfied: rsa<5,>=3.1.4 in c:\\users\\pshukla\\anaconda3\\lib\\site-packages (from google-auth<3,>=1.6.3->tensorboard<2.12,>=2.11->tensorflow-intel==2.11.0->tensorflow) (4.9)\n",
      "Requirement already satisfied: cachetools<6.0,>=2.0.0 in c:\\users\\pshukla\\anaconda3\\lib\\site-packages (from google-auth<3,>=1.6.3->tensorboard<2.12,>=2.11->tensorflow-intel==2.11.0->tensorflow) (5.3.0)\n",
      "Requirement already satisfied: requests-oauthlib>=0.7.0 in c:\\users\\pshukla\\anaconda3\\lib\\site-packages (from google-auth-oauthlib<0.5,>=0.4.1->tensorboard<2.12,>=2.11->tensorflow-intel==2.11.0->tensorflow) (1.3.1)\n",
      "Requirement already satisfied: urllib3<1.27,>=1.21.1 in c:\\users\\pshukla\\anaconda3\\lib\\site-packages (from requests<3,>=2.21.0->tensorboard<2.12,>=2.11->tensorflow-intel==2.11.0->tensorflow) (1.26.11)\n",
      "Requirement already satisfied: idna<4,>=2.5 in c:\\users\\pshukla\\anaconda3\\lib\\site-packages (from requests<3,>=2.21.0->tensorboard<2.12,>=2.11->tensorflow-intel==2.11.0->tensorflow) (3.3)\n",
      "Requirement already satisfied: certifi>=2017.4.17 in c:\\users\\pshukla\\anaconda3\\lib\\site-packages (from requests<3,>=2.21.0->tensorboard<2.12,>=2.11->tensorflow-intel==2.11.0->tensorflow) (2022.9.14)\n",
      "Requirement already satisfied: charset-normalizer<3,>=2 in c:\\users\\pshukla\\anaconda3\\lib\\site-packages (from requests<3,>=2.21.0->tensorboard<2.12,>=2.11->tensorflow-intel==2.11.0->tensorflow) (2.0.4)\n",
      "Requirement already satisfied: pyasn1<0.5.0,>=0.4.6 in c:\\users\\pshukla\\anaconda3\\lib\\site-packages (from pyasn1-modules>=0.2.1->google-auth<3,>=1.6.3->tensorboard<2.12,>=2.11->tensorflow-intel==2.11.0->tensorflow) (0.4.8)\n",
      "Requirement already satisfied: oauthlib>=3.0.0 in c:\\users\\pshukla\\anaconda3\\lib\\site-packages (from requests-oauthlib>=0.7.0->google-auth-oauthlib<0.5,>=0.4.1->tensorboard<2.12,>=2.11->tensorflow-intel==2.11.0->tensorflow) (3.2.2)\n"
     ]
    }
   ],
   "source": [
    "!pip install tensorflow"
   ]
  },
  {
   "cell_type": "code",
   "execution_count": 3,
   "id": "537d94ec",
   "metadata": {},
   "outputs": [
    {
     "name": "stdout",
     "output_type": "stream",
     "text": [
      "Requirement already satisfied: gensim in c:\\users\\pshukla\\anaconda3\\lib\\site-packages (4.1.2)\n",
      "Requirement already satisfied: smart-open>=1.8.1 in c:\\users\\pshukla\\anaconda3\\lib\\site-packages (from gensim) (5.2.1)\n",
      "Requirement already satisfied: numpy>=1.17.0 in c:\\users\\pshukla\\anaconda3\\lib\\site-packages (from gensim) (1.21.5)\n",
      "Requirement already satisfied: scipy>=0.18.1 in c:\\users\\pshukla\\anaconda3\\lib\\site-packages (from gensim) (1.9.1)\n",
      "Note: you may need to restart the kernel to use updated packages.\n"
     ]
    }
   ],
   "source": [
    "pip install gensim"
   ]
  },
  {
   "cell_type": "code",
   "execution_count": 4,
   "id": "8b343a4c",
   "metadata": {},
   "outputs": [
    {
     "name": "stdout",
     "output_type": "stream",
     "text": [
      "Requirement already satisfied: transformers in c:\\users\\pshukla\\anaconda3\\lib\\site-packages (4.26.1)\n",
      "Requirement already satisfied: numpy>=1.17 in c:\\users\\pshukla\\anaconda3\\lib\\site-packages (from transformers) (1.21.5)\n",
      "Requirement already satisfied: huggingface-hub<1.0,>=0.11.0 in c:\\users\\pshukla\\anaconda3\\lib\\site-packages (from transformers) (0.12.0)\n",
      "Requirement already satisfied: tokenizers!=0.11.3,<0.14,>=0.11.1 in c:\\users\\pshukla\\anaconda3\\lib\\site-packages (from transformers) (0.13.2)\n",
      "Requirement already satisfied: filelock in c:\\users\\pshukla\\anaconda3\\lib\\site-packages (from transformers) (3.6.0)\n",
      "Requirement already satisfied: regex!=2019.12.17 in c:\\users\\pshukla\\anaconda3\\lib\\site-packages (from transformers) (2022.7.9)\n",
      "Requirement already satisfied: requests in c:\\users\\pshukla\\anaconda3\\lib\\site-packages (from transformers) (2.28.1)\n",
      "Requirement already satisfied: packaging>=20.0 in c:\\users\\pshukla\\anaconda3\\lib\\site-packages (from transformers) (21.3)\n",
      "Requirement already satisfied: tqdm>=4.27 in c:\\users\\pshukla\\anaconda3\\lib\\site-packages (from transformers) (4.64.1)\n",
      "Requirement already satisfied: pyyaml>=5.1 in c:\\users\\pshukla\\anaconda3\\lib\\site-packages (from transformers) (6.0)\n",
      "Requirement already satisfied: typing-extensions>=3.7.4.3 in c:\\users\\pshukla\\anaconda3\\lib\\site-packages (from huggingface-hub<1.0,>=0.11.0->transformers) (4.3.0)\n",
      "Requirement already satisfied: pyparsing!=3.0.5,>=2.0.2 in c:\\users\\pshukla\\anaconda3\\lib\\site-packages (from packaging>=20.0->transformers) (3.0.9)\n",
      "Requirement already satisfied: colorama in c:\\users\\pshukla\\anaconda3\\lib\\site-packages (from tqdm>=4.27->transformers) (0.4.5)\n",
      "Requirement already satisfied: idna<4,>=2.5 in c:\\users\\pshukla\\anaconda3\\lib\\site-packages (from requests->transformers) (3.3)\n",
      "Requirement already satisfied: certifi>=2017.4.17 in c:\\users\\pshukla\\anaconda3\\lib\\site-packages (from requests->transformers) (2022.9.14)\n",
      "Requirement already satisfied: urllib3<1.27,>=1.21.1 in c:\\users\\pshukla\\anaconda3\\lib\\site-packages (from requests->transformers) (1.26.11)\n",
      "Requirement already satisfied: charset-normalizer<3,>=2 in c:\\users\\pshukla\\anaconda3\\lib\\site-packages (from requests->transformers) (2.0.4)\n"
     ]
    }
   ],
   "source": [
    "!pip install transformers"
   ]
  },
  {
   "cell_type": "code",
   "execution_count": 5,
   "id": "fb83beb4",
   "metadata": {},
   "outputs": [],
   "source": [
    "released = pd.read_excel(r\"C:\\Users\\PShukla\\Downloads\\VW_CTDI_OrderHolds_Released_22_02_2023latest.xlsx\")"
   ]
  },
  {
   "cell_type": "code",
   "execution_count": 6,
   "id": "7fb50a7b",
   "metadata": {},
   "outputs": [
    {
     "data": {
      "text/html": [
       "<div>\n",
       "<style scoped>\n",
       "    .dataframe tbody tr th:only-of-type {\n",
       "        vertical-align: middle;\n",
       "    }\n",
       "\n",
       "    .dataframe tbody tr th {\n",
       "        vertical-align: top;\n",
       "    }\n",
       "\n",
       "    .dataframe thead th {\n",
       "        text-align: right;\n",
       "    }\n",
       "</style>\n",
       "<table border=\"1\" class=\"dataframe\">\n",
       "  <thead>\n",
       "    <tr style=\"text-align: right;\">\n",
       "      <th></th>\n",
       "      <th>ctdiOrderHoldsId</th>\n",
       "      <th>holdType</th>\n",
       "      <th>serviceLine</th>\n",
       "      <th>serviceRequest</th>\n",
       "      <th>partNBR</th>\n",
       "      <th>customer</th>\n",
       "      <th>systemEngineer</th>\n",
       "      <th>daysOnHold</th>\n",
       "      <th>holdCode</th>\n",
       "      <th>holdIssue</th>\n",
       "      <th>resolutionCode</th>\n",
       "      <th>resolutionResponse</th>\n",
       "      <th>startTime</th>\n",
       "      <th>endTime</th>\n",
       "      <th>insertDateTime</th>\n",
       "      <th>fileName</th>\n",
       "      <th>createdBy</th>\n",
       "    </tr>\n",
       "  </thead>\n",
       "  <tbody>\n",
       "    <tr>\n",
       "      <th>0</th>\n",
       "      <td>2</td>\n",
       "      <td>PROCUREMENT</td>\n",
       "      <td>ATTATMIS+</td>\n",
       "      <td>IP22067957</td>\n",
       "      <td>XDC1001U</td>\n",
       "      <td>CISCO SYSTEMS</td>\n",
       "      <td>DL-InventoryMgt@list.att.com</td>\n",
       "      <td>8</td>\n",
       "      <td>MFG Part # Missing</td>\n",
       "      <td>XDC1001U - QTY.1 NO PART AVAILABLE</td>\n",
       "      <td>MFG PART # PROVIDED</td>\n",
       "      <td>part provided</td>\n",
       "      <td>2022-08-11T12:52:06-05:00</td>\n",
       "      <td>2022-08-19T12:36:40-05:00</td>\n",
       "      <td>2/12/2023, 10:58:53 AM</td>\n",
       "      <td>ctdi_order_holds_08192022130343_decrypt.csv</td>\n",
       "      <td>EC2AMAZ-T2KLKUH\\Administrator</td>\n",
       "    </tr>\n",
       "    <tr>\n",
       "      <th>1</th>\n",
       "      <td>3</td>\n",
       "      <td>PROCUREMENT</td>\n",
       "      <td>ATTATMIS+</td>\n",
       "      <td>R010025352</td>\n",
       "      <td>XDCLHSMD</td>\n",
       "      <td>NaN</td>\n",
       "      <td>DL-InventoryMgt@list.att.com</td>\n",
       "      <td>11</td>\n",
       "      <td>MFG Part # Missing</td>\n",
       "      <td>XDCLHSMD_x000d_\\nQTY 1_x000d_\\n_x000d_\\nPLEASE...</td>\n",
       "      <td>MFG PART # PROVIDED</td>\n",
       "      <td>PART PROVIDED</td>\n",
       "      <td>2022-08-01T10:47:30-05:00</td>\n",
       "      <td>2022-08-12T14:04:53-05:00</td>\n",
       "      <td>2/12/2023, 10:58:53 AM</td>\n",
       "      <td>ctdi_order_holds_08122022150353_decrypt.csv</td>\n",
       "      <td>EC2AMAZ-T2KLKUH\\Administrator</td>\n",
       "    </tr>\n",
       "    <tr>\n",
       "      <th>2</th>\n",
       "      <td>4</td>\n",
       "      <td>PROCUREMENT</td>\n",
       "      <td>ATTMISMTCE</td>\n",
       "      <td>R010025332</td>\n",
       "      <td>GLC-TE</td>\n",
       "      <td>CISCO SYSTEMS</td>\n",
       "      <td>DL-InventoryMgt@list.att.com</td>\n",
       "      <td>13</td>\n",
       "      <td>MFG Part # Missing</td>\n",
       "      <td>GLC-TE_x000d_\\nQTY 1_x000d_\\n_x000d_\\nPLEASE P...</td>\n",
       "      <td>MFG PART # PROVIDED</td>\n",
       "      <td>PART PROVIDED</td>\n",
       "      <td>2022-07-28T13:57:47-05:00</td>\n",
       "      <td>2022-08-10T13:38:23-05:00</td>\n",
       "      <td>2/12/2023, 10:58:53 AM</td>\n",
       "      <td>ctdi_order_holds_08102022140403_decrypt.csv</td>\n",
       "      <td>EC2AMAZ-T2KLKUH\\Administrator</td>\n",
       "    </tr>\n",
       "    <tr>\n",
       "      <th>3</th>\n",
       "      <td>5</td>\n",
       "      <td>PROCUREMENT</td>\n",
       "      <td>ATTSIGEU</td>\n",
       "      <td>AVTS220715111126</td>\n",
       "      <td>ISE1075</td>\n",
       "      <td>Custom Cable</td>\n",
       "      <td>DL-InventoryMgt@list.att.com</td>\n",
       "      <td>3</td>\n",
       "      <td>MFG Part # Missing</td>\n",
       "      <td>ISE1079_x000d_\\nISE1076_x000d_\\nISE1075_x000d_...</td>\n",
       "      <td>MFG PART # PROVIDED</td>\n",
       "      <td>please use from these below from NCRTRANSFER, ...</td>\n",
       "      <td>2022-07-29T13:05:30-05:00</td>\n",
       "      <td>2022-08-01T13:08:29-05:00</td>\n",
       "      <td>2/12/2023, 10:58:53 AM</td>\n",
       "      <td>ctdi_order_holds_08012022140403_decrypt.csv</td>\n",
       "      <td>EC2AMAZ-T2KLKUH\\Administrator</td>\n",
       "    </tr>\n",
       "    <tr>\n",
       "      <th>4</th>\n",
       "      <td>6</td>\n",
       "      <td>PROCUREMENT</td>\n",
       "      <td>ATTSIGEU</td>\n",
       "      <td>AVTS220715111126</td>\n",
       "      <td>ISE1076</td>\n",
       "      <td>Custom Cable</td>\n",
       "      <td>DL-InventoryMgt@list.att.com</td>\n",
       "      <td>3</td>\n",
       "      <td>MFG Part # Missing</td>\n",
       "      <td>ISE1079_x000d_\\nISE1076_x000d_\\nISE1075_x000d_...</td>\n",
       "      <td>MFG PART # PROVIDED</td>\n",
       "      <td>please use from these below from NCRTRANSFER, ...</td>\n",
       "      <td>2022-07-29T13:05:30-05:00</td>\n",
       "      <td>2022-08-01T13:08:29-05:00</td>\n",
       "      <td>2/12/2023, 10:58:53 AM</td>\n",
       "      <td>ctdi_order_holds_08012022140403_decrypt.csv</td>\n",
       "      <td>EC2AMAZ-T2KLKUH\\Administrator</td>\n",
       "    </tr>\n",
       "  </tbody>\n",
       "</table>\n",
       "</div>"
      ],
      "text/plain": [
       "   ctdiOrderHoldsId     holdType serviceLine    serviceRequest   partNBR  \\\n",
       "0                 2  PROCUREMENT   ATTATMIS+        IP22067957  XDC1001U   \n",
       "1                 3  PROCUREMENT   ATTATMIS+        R010025352  XDCLHSMD   \n",
       "2                 4  PROCUREMENT  ATTMISMTCE        R010025332    GLC-TE   \n",
       "3                 5  PROCUREMENT    ATTSIGEU  AVTS220715111126   ISE1075   \n",
       "4                 6  PROCUREMENT    ATTSIGEU  AVTS220715111126   ISE1076   \n",
       "\n",
       "        customer                systemEngineer  daysOnHold  \\\n",
       "0  CISCO SYSTEMS  DL-InventoryMgt@list.att.com           8   \n",
       "1            NaN  DL-InventoryMgt@list.att.com          11   \n",
       "2  CISCO SYSTEMS  DL-InventoryMgt@list.att.com          13   \n",
       "3   Custom Cable  DL-InventoryMgt@list.att.com           3   \n",
       "4   Custom Cable  DL-InventoryMgt@list.att.com           3   \n",
       "\n",
       "             holdCode                                          holdIssue  \\\n",
       "0  MFG Part # Missing                 XDC1001U - QTY.1 NO PART AVAILABLE   \n",
       "1  MFG Part # Missing  XDCLHSMD_x000d_\\nQTY 1_x000d_\\n_x000d_\\nPLEASE...   \n",
       "2  MFG Part # Missing  GLC-TE_x000d_\\nQTY 1_x000d_\\n_x000d_\\nPLEASE P...   \n",
       "3  MFG Part # Missing  ISE1079_x000d_\\nISE1076_x000d_\\nISE1075_x000d_...   \n",
       "4  MFG Part # Missing  ISE1079_x000d_\\nISE1076_x000d_\\nISE1075_x000d_...   \n",
       "\n",
       "        resolutionCode                                 resolutionResponse  \\\n",
       "0  MFG PART # PROVIDED                                      part provided   \n",
       "1  MFG PART # PROVIDED                                      PART PROVIDED   \n",
       "2  MFG PART # PROVIDED                                      PART PROVIDED   \n",
       "3  MFG PART # PROVIDED  please use from these below from NCRTRANSFER, ...   \n",
       "4  MFG PART # PROVIDED  please use from these below from NCRTRANSFER, ...   \n",
       "\n",
       "                   startTime                    endTime  \\\n",
       "0  2022-08-11T12:52:06-05:00  2022-08-19T12:36:40-05:00   \n",
       "1  2022-08-01T10:47:30-05:00  2022-08-12T14:04:53-05:00   \n",
       "2  2022-07-28T13:57:47-05:00  2022-08-10T13:38:23-05:00   \n",
       "3  2022-07-29T13:05:30-05:00  2022-08-01T13:08:29-05:00   \n",
       "4  2022-07-29T13:05:30-05:00  2022-08-01T13:08:29-05:00   \n",
       "\n",
       "           insertDateTime                                     fileName  \\\n",
       "0  2/12/2023, 10:58:53 AM  ctdi_order_holds_08192022130343_decrypt.csv   \n",
       "1  2/12/2023, 10:58:53 AM  ctdi_order_holds_08122022150353_decrypt.csv   \n",
       "2  2/12/2023, 10:58:53 AM  ctdi_order_holds_08102022140403_decrypt.csv   \n",
       "3  2/12/2023, 10:58:53 AM  ctdi_order_holds_08012022140403_decrypt.csv   \n",
       "4  2/12/2023, 10:58:53 AM  ctdi_order_holds_08012022140403_decrypt.csv   \n",
       "\n",
       "                       createdBy  \n",
       "0  EC2AMAZ-T2KLKUH\\Administrator  \n",
       "1  EC2AMAZ-T2KLKUH\\Administrator  \n",
       "2  EC2AMAZ-T2KLKUH\\Administrator  \n",
       "3  EC2AMAZ-T2KLKUH\\Administrator  \n",
       "4  EC2AMAZ-T2KLKUH\\Administrator  "
      ]
     },
     "execution_count": 6,
     "metadata": {},
     "output_type": "execute_result"
    }
   ],
   "source": [
    "released.head()"
   ]
  },
  {
   "cell_type": "code",
   "execution_count": 7,
   "id": "3953ecef",
   "metadata": {},
   "outputs": [
    {
     "data": {
      "text/plain": [
       "(0, 17)"
      ]
     },
     "execution_count": 7,
     "metadata": {},
     "output_type": "execute_result"
    }
   ],
   "source": [
    "duplicated= released[released.duplicated()]\n",
    "duplicated.shape"
   ]
  },
  {
   "cell_type": "code",
   "execution_count": 8,
   "id": "ff2622fb",
   "metadata": {},
   "outputs": [
    {
     "data": {
      "text/html": [
       "<div>\n",
       "<style scoped>\n",
       "    .dataframe tbody tr th:only-of-type {\n",
       "        vertical-align: middle;\n",
       "    }\n",
       "\n",
       "    .dataframe tbody tr th {\n",
       "        vertical-align: top;\n",
       "    }\n",
       "\n",
       "    .dataframe thead th {\n",
       "        text-align: right;\n",
       "    }\n",
       "</style>\n",
       "<table border=\"1\" class=\"dataframe\">\n",
       "  <thead>\n",
       "    <tr style=\"text-align: right;\">\n",
       "      <th></th>\n",
       "      <th>ctdiOrderHoldsId</th>\n",
       "      <th>holdType</th>\n",
       "      <th>serviceLine</th>\n",
       "      <th>serviceRequest</th>\n",
       "      <th>partNBR</th>\n",
       "      <th>customer</th>\n",
       "      <th>systemEngineer</th>\n",
       "      <th>daysOnHold</th>\n",
       "      <th>holdCode</th>\n",
       "      <th>holdIssue</th>\n",
       "      <th>resolutionCode</th>\n",
       "      <th>resolutionResponse</th>\n",
       "      <th>startTime</th>\n",
       "      <th>endTime</th>\n",
       "      <th>insertDateTime</th>\n",
       "      <th>fileName</th>\n",
       "      <th>createdBy</th>\n",
       "    </tr>\n",
       "  </thead>\n",
       "  <tbody>\n",
       "  </tbody>\n",
       "</table>\n",
       "</div>"
      ],
      "text/plain": [
       "Empty DataFrame\n",
       "Columns: [ctdiOrderHoldsId, holdType, serviceLine, serviceRequest, partNBR, customer, systemEngineer, daysOnHold, holdCode, holdIssue, resolutionCode, resolutionResponse, startTime, endTime, insertDateTime, fileName, createdBy]\n",
       "Index: []"
      ]
     },
     "execution_count": 8,
     "metadata": {},
     "output_type": "execute_result"
    }
   ],
   "source": [
    "duplicated.head()"
   ]
  },
  {
   "cell_type": "code",
   "execution_count": 9,
   "id": "1bc0f65d",
   "metadata": {},
   "outputs": [
    {
     "data": {
      "text/plain": [
       "Index(['ctdiOrderHoldsId', 'holdType', 'serviceLine', 'serviceRequest',\n",
       "       'partNBR', 'customer', 'systemEngineer', 'daysOnHold', 'holdCode',\n",
       "       'holdIssue', 'resolutionCode', 'resolutionResponse', 'startTime',\n",
       "       'endTime', 'insertDateTime', 'fileName', 'createdBy'],\n",
       "      dtype='object')"
      ]
     },
     "execution_count": 9,
     "metadata": {},
     "output_type": "execute_result"
    }
   ],
   "source": [
    "released.columns"
   ]
  },
  {
   "cell_type": "code",
   "execution_count": 10,
   "id": "92fff669",
   "metadata": {},
   "outputs": [],
   "source": [
    "final_df=released[['holdCode','holdIssue','resolutionCode']]"
   ]
  },
  {
   "cell_type": "code",
   "execution_count": 11,
   "id": "a8394220",
   "metadata": {},
   "outputs": [
    {
     "data": {
      "text/plain": [
       "array(['MFG PART # PROVIDED', 'MFG PRT# UPDATED', 'ACK PROVIDED',\n",
       "       'PO PROVIDED', 'HOLD IGNORE', 'MFG PART #  DELIVERED',\n",
       "       'HOST NAME ERROR CLEARED', 'UPDATED EOL PROVIDED',\n",
       "       'CFG FILE PROVIDED', 'UPDATED CFG FILE', 'UPDATED SDP FILE',\n",
       "       'RCD REVISED CI', 'OTHER', 'SDP & CFG FILE PROVIDED',\n",
       "       'IOS PROVIDED', 'HOST NAME PROVIDED', 'SDP FILE PROVIDED',\n",
       "       'UPDATED IOS', 'UPDATED SDP&CFG FILE', 'ORDER CANCELLED',\n",
       "       'ACK UPDATED', 'MORE INFORMATION NEEDED'], dtype=object)"
      ]
     },
     "execution_count": 11,
     "metadata": {},
     "output_type": "execute_result"
    }
   ],
   "source": [
    "final_df['resolutionCode'].unique()"
   ]
  },
  {
   "cell_type": "code",
   "execution_count": 12,
   "id": "cc50d868",
   "metadata": {},
   "outputs": [],
   "source": [
    "# remove records which does not having any resolution code\n",
    "final_df=final_df[final_df['resolutionCode'].isnull()==False]"
   ]
  },
  {
   "cell_type": "code",
   "execution_count": 13,
   "id": "1f47ffaa",
   "metadata": {},
   "outputs": [
    {
     "data": {
      "text/plain": [
       "(1691, 3)"
      ]
     },
     "execution_count": 13,
     "metadata": {},
     "output_type": "execute_result"
    }
   ],
   "source": [
    "final_df.shape"
   ]
  },
  {
   "cell_type": "code",
   "execution_count": 14,
   "id": "0cfcd8c2",
   "metadata": {},
   "outputs": [],
   "source": [
    "final_df2=final_df.reset_index (drop=True)"
   ]
  },
  {
   "cell_type": "code",
   "execution_count": 15,
   "id": "374d9b92",
   "metadata": {},
   "outputs": [],
   "source": [
    "final_df2[\"holdCode_holdIssue\"]=final_df2[\"holdCode\"]+final_df2[\"holdIssue\"]"
   ]
  },
  {
   "cell_type": "code",
   "execution_count": 16,
   "id": "79e25ab5",
   "metadata": {},
   "outputs": [
    {
     "data": {
      "text/plain": [
       "RCD REVISED CI             476\n",
       "MFG PART # PROVIDED        329\n",
       "UPDATED CFG FILE           181\n",
       "OTHER                      162\n",
       "ACK PROVIDED               132\n",
       "SDP & CFG FILE PROVIDED    124\n",
       "CFG FILE PROVIDED           55\n",
       "UPDATED EOL PROVIDED        41\n",
       "UPDATED SDP FILE            33\n",
       "SDP FILE PROVIDED           26\n",
       "UPDATED SDP&CFG FILE        25\n",
       "IOS PROVIDED                21\n",
       "ACK UPDATED                 16\n",
       "PO PROVIDED                 12\n",
       "HOST NAME ERROR CLEARED     12\n",
       "ORDER CANCELLED             11\n",
       "MORE INFORMATION NEEDED     10\n",
       "UPDATED IOS                  9\n",
       "HOST NAME PROVIDED           6\n",
       "MFG PART #  DELIVERED        5\n",
       "MFG PRT# UPDATED             4\n",
       "HOLD IGNORE                  1\n",
       "Name: resolutionCode, dtype: int64"
      ]
     },
     "execution_count": 16,
     "metadata": {},
     "output_type": "execute_result"
    }
   ],
   "source": [
    "final_df2['resolutionCode'].value_counts()"
   ]
  },
  {
   "cell_type": "code",
   "execution_count": 17,
   "id": "79943e64",
   "metadata": {},
   "outputs": [],
   "source": [
    "def cleanText(words):\n",
    "    words = re.sub(\"[^a-zA-Z]\",\" \",words)\n",
    "    text = words.lower().split()\n",
    "    return \" \".join(text)\n",
    "\n",
    "final_df2['holdCode_holdIssue'] = final_df2['holdCode_holdIssue'].apply(cleanText)"
   ]
  },
  {
   "cell_type": "code",
   "execution_count": 18,
   "id": "d0ee0096",
   "metadata": {},
   "outputs": [
    {
     "name": "stdout",
     "output_type": "stream",
     "text": [
      "Requirement already satisfied: nltk in c:\\users\\pshukla\\anaconda3\\lib\\site-packages (3.7)\n",
      "Requirement already satisfied: regex>=2021.8.3 in c:\\users\\pshukla\\anaconda3\\lib\\site-packages (from nltk) (2022.7.9)\n",
      "Requirement already satisfied: tqdm in c:\\users\\pshukla\\anaconda3\\lib\\site-packages (from nltk) (4.64.1)\n",
      "Requirement already satisfied: click in c:\\users\\pshukla\\anaconda3\\lib\\site-packages (from nltk) (8.0.4)\n",
      "Requirement already satisfied: joblib in c:\\users\\pshukla\\anaconda3\\lib\\site-packages (from nltk) (1.1.0)\n",
      "Requirement already satisfied: colorama in c:\\users\\pshukla\\anaconda3\\lib\\site-packages (from click->nltk) (0.4.5)\n"
     ]
    }
   ],
   "source": [
    "!pip install nltk\n",
    "import nltk"
   ]
  },
  {
   "cell_type": "code",
   "execution_count": 19,
   "id": "85af2945",
   "metadata": {},
   "outputs": [],
   "source": [
    "stop = stopwords.words('english')\n",
    "lem = WordNetLemmatizer()\n",
    "\n",
    "\n",
    "def remove_stopwords(text):\n",
    "    \"\"\"The function to removing stopwords\"\"\"\n",
    "    text = [word.lower() for word in text.split() if word.lower() not in stop]\n",
    "    return \" \".join(text)\n",
    "\n",
    "def word_lem(text):\n",
    "    \"\"\"The function to apply lemmatizing\"\"\"\n",
    "    lem_text = [lem.lemmatize(word) for word in text.split()]\n",
    "    return \" \".join(lem_text)"
   ]
  },
  {
   "cell_type": "code",
   "execution_count": 20,
   "id": "0adef17a",
   "metadata": {},
   "outputs": [],
   "source": [
    "final_df2['holdCode_holdIssue'] = final_df2['holdCode_holdIssue'].apply(remove_stopwords)\n",
    "final_df2['holdCode_holdIssue'] = final_df2['holdCode_holdIssue'].apply(word_lem)"
   ]
  },
  {
   "cell_type": "code",
   "execution_count": 35,
   "id": "49f30e72",
   "metadata": {},
   "outputs": [
    {
     "name": "stdout",
     "output_type": "stream",
     "text": [
      "Accuracy: 90.56%\n"
     ]
    }
   ],
   "source": [
    "#Voting\n",
    "# Import the necessary libraries\n",
    "import pandas as pd\n",
    "from sklearn.feature_extraction.text import TfidfVectorizer\n",
    "from sklearn.ensemble import VotingClassifier\n",
    "from sklearn.naive_bayes import MultinomialNB\n",
    "from sklearn.linear_model import LogisticRegression\n",
    "from sklearn.svm import LinearSVC\n",
    "from sklearn.pipeline import Pipeline\n",
    "from sklearn.ensemble import RandomForestClassifier\n",
    "from sklearn.metrics import accuracy_score\n",
    "from sklearn.model_selection import train_test_split\n",
    "from sklearn.tree import DecisionTreeClassifier\n",
    "from sklearn.linear_model import ElasticNet\n",
    "import xgboost\n",
    "from xgboost import XGBClassifier\n",
    "\n",
    "# Create the pipeline\n",
    "pipeline = Pipeline([\n",
    "    ('tfidf', TfidfVectorizer()),\n",
    "    ('voting', VotingClassifier([\n",
    "        ('lr', LogisticRegression()),\n",
    "        ('svm', LinearSVC()),\n",
    "        ('rf', RandomForestClassifier()),\n",
    "        ('dtc', DecisionTreeClassifier()),\n",
    "    \n",
    "        \n",
    "    ]))\n",
    "])\n",
    "\n",
    "# Split the data into training and testing sets\n",
    "X_train, X_test, y_train, y_test = train_test_split(final_df2['holdCode_holdIssue'], final_df2['resolutionCode'], test_size=0.2, shuffle=True)\n",
    "\n",
    "# Train the model\n",
    "pipeline.fit(X_train, y_train)\n",
    "\n",
    "# Evaluate the model\n",
    "accuracy = pipeline.score(X_test, y_test)\n",
    "print(\"Accuracy: {:.2f}%\".format(accuracy * 100))\n",
    "# Use trained model to make recommendations with multiple filters\n"
   ]
  },
  {
   "cell_type": "code",
   "execution_count": 36,
   "id": "c8a955c5",
   "metadata": {},
   "outputs": [
    {
     "name": "stdout",
     "output_type": "stream",
     "text": [
      "Enter the combination of hold code & hold issue:cfg\n",
      "cfg errorneed static ip information\n",
      "cfg errorstatic ip information error\n",
      "cfg errorrouter conf net host network configuration file host command replaced command copy url system running config address name remote host source filename router confg work ip cfg configure using tftp work ip cfg confirm loading work ip cfg via gigabitethernet ok byte boot system flash bootflash isr universalk spa bin invalid input detected marker ip tftp source gigabitethernet invalid input detected marker\n",
      "cfg errorwrong config file x order xdc u router\n",
      "cfg errorcard type x x invalid input detected marker x x network clock input source controller x x invalid input detected marker x x isdn switch type primary ni x x invalid input detected marker x warning codec built vad cannot disabled x codec negotiated vad configuration disregarded x x controller x x invalid input detected marker x x clock source line x x invalid input detected marker x x framing esf x x invalid input detected marker x x linecode b z x x invalid input detected marker x x pri group timeslots x x invalid input detected marker x x shutdown x x invalid input detected marker\n",
      "cfg error config take effect next reboot boot system flash bootflash isr universalk spa bin invalid input detected marker clock source line warning codec built vad cannot disabled codec negotiated vad configuration disregarded gigabitethernet changing medium rj protocol mode ipv invalid input detected marker retry invite invalid input detected marker\n",
      "cfg errorprotocol mode ipv invalid input detected marker retry invite invalid input detected marker\n",
      "cfg errorrouter conf net x host network configuration file host x command replaced command x copy url system running config x address name remote host x source filename router confg work avts txt x configure using tftp work avts txt confirm x loading work avts txt via gigabitethernet x x ok byte x x warning command added configuration using type password h x owever type password soon deprecated migrate supported passwor x type x ip domain name pki att com x x invalid input detected marker\n",
      "cfg errorplease provide license file ex c p installed unit currently order\n",
      "cfg erroredit class service forwarding class queue x queue co loss x syntax error x load complete error\n",
      "cfg errorquote request sent supplier keep posted\n",
      "cfg errorthe following cfgs following command failing every xdcs mc order ip tftp source interface loopback\n",
      "cfg errorerror unexpected content oamctl x error cannot verify package db oam tgz x verified o boot juno signed packageproductionecp method ecdsa x sha x error unexpected content juno boot tar x error cannot verify package db o boot juno tgz x verified o crypto signed packageproductionecp method ecdsa sha x error unexpected boot loader conf x error cannot verify package db o crypto tgz x verified o kernel prd signed packageproductionecp method ecdsa sh x x error unexpected boot content izo x error cannot verify package db o kernel prd tgz x verified o libs signed packageproductionecp method ecdsa sha x error unexpected content content izo x error cannot verify package db o libs tgz x verified o runtime signed packageproductionecp method ecdsa sha x x error unexpected content content izo x error cannot verify package db o runtime tgz x verified o zoneinfo signed packageproductionecp method ecdsa sha x x error unexpected content content izo x error cannot verify package db o zoneinfo tgz\n",
      "cfg errorinterface gigabitethernet x x invalid input detected marker x x load interval x x invalid input detected marker x x interface gigabitethernet x x invalid input detected marker x x service policy output mn shape x x invalid input detected marker\n",
      "cfg errorunit hw license installed plese send ex c p file installed\n",
      "cfg errorplease provide license file installed unit hw\n",
      "cfg missingno cfg file gps\n",
      "cfg errorswitch conf net x host network configuration file host x command replaced command x copy url system running config x address name remote host x source filename switch confg work txt x configure using tftp work txt confirm x loading work txt via gigabitethernet x ok byte x email address configured cisco smart license portal used conta x ct email address send sch notification x x x invalid input detected marker x x warning notice x x invalid input detected marker x x system restricted solely authorized user x x invalid input detected marker x x legitimate business purpose actual attempted unauthorized x x invalid input detected marker x x access use modification system strictly prohibited x x invalid input detected marker x x agns unauthorized user subject company disciplinary proceeding x x invalid input detected marker x x criminal civil penalty state federal x x invalid input detected marker x x applicable domestic foreign law use system may x x invalid input detected marker x x monitored recorded administrative security reason anyone x x invalid input detected marker x x accessing system expressly consent monitoring advised x x invalid input detected marker x x monitoring reveals possible evidence criminal activity x x invalid input detected marker x x may provide evidence activity law enforcement x x invalid input detected marker x x official user must comply corporate security x x invalid input detected marker x x instruction regarding protection information asset x x invalid input detected marker x x x x invalid input detected marker x x x x invalid input detected marker x x uskfhasismd lo\n",
      "cfg erroraug smart lic comm failed communication failure cisco smart license utility cslu unable resolve server hostname domain name x interface loopback vrf kaiser nmi match cfg vrf x ip domain lookup x\n",
      "cfg errorlarge cfg error\n",
      "cfg errorudld port aggressive x x invalid input detected marker x x auto qos trust x x invalid input detected marker\n",
      "cfg error x invalid input detected marker x x udld port aggressive x x invalid input detected marker x x auto qos trust x x invalid input detected marker\n",
      "cfg missingno cfg file gps unit w c cx pc\n",
      "cfg errorline aux x x invalid input detected marker x x session timeout x x invalid input detected marker x x exec timeout x x invalid input detected marker\n",
      "cfg errorswitch priority use master chassis backup master cha ssis member respectively x x invalid input detected marker x x install add file flash cat k iosxe spa bin activate commit x x invalid input detected marker x x install remove inactive x x invalid input detected marker\n",
      "cfg errorgps missing information vnf file\n",
      "cfg erroraborted vpn interface ge tloc extension interface ge present vpn\n",
      "cfg errorcfg invalid vedge config entering configuration mode terminal vedge config load merge ftp txt vpn downloading ftp txt via vpn ftp txt home admin tmp znhvdxebdj temp config connecting connected logging anonymous logged syst done pwd done type done cwd needed size txt pasv done retr txt done length k unauthoritative txt k kb mb home admin tmp znhvdxebdj temp config saved syntax error missing value error line system ip\n",
      "cfg error error seen setting interface gigabitethernet default config x x\n",
      "cfg errorswitch conf net x host network configuration file host x command replaced command x copy url system running config x address name remote host x source filename switch confg work txt x configure using tftp work txt confirm x loading work txt via gigabitethernet x ok byte x x access vlan exist creating vlan x voice vlan exist creating vlan x access vlan exist creating vlan x access vlan exist creating vlan x auto qos voip trust x x invalid input detected marker\n",
      "cfg errorsource filename switch confg work txt x configure using tftp work txt confirm x loading work txt via gigabitethernet x ok byte x x ip domain lookup x x invalid input detected marker x x interface vlan set default configuration x aug sys log config change buffer logging level debugging xml disabled filtering disabled size x aug sys log config change monitor logging level informational xml disabled filtering disabled x management interface vrf cannot changed x x error seen setting interface gigabitethernet default config x switchport trunk encapsulation dot q x x invalid input detected marker\n",
      "cfg errorinterface vlan set default configuration x management interface vrf cannot changed x x error seen setting interface gigabitethernet default config x switchport trunk encapsulation dot q x x invalid input detected marker x bad mask address x gtagdoch glega\n",
      "cfg error jul sys log config change buffer logging level debugging xml disabled filtering disabled size x interface port channel x x invalid input detected marker x x description u ex sw x x invalid input detected marker x x switchport trunk pruning vlan none x x invalid input detected marker x x switchport mode trunk x x invalid input detected marker x x creating port channel interface port channel\n",
      "cfg erroruplinks another switch usually first two sw stack x x invalid input detected marker x x skip part uplink module card part inventory usually rd x switch stack x x invalid input detected marker\n",
      "cfg error insertion failed prefix list entry exists x seq permit matching route delete\n",
      "cfg errorsource filename router confg work txt x configure using tftp work txt confirm x loading work txt via gigabitethernet x ok byte x x gigabitethernet changing medium rj x warning address within subnet interface x ip prefix list dmvpn permit vlan x x invalid input detected marker\n",
      "cfg error hostname gtadcssshermacga legal lat node name using cisco cb config take effect next reboot x x interface gigabitethernet x x invalid input detected marker x x description unused interface x x invalid input detected marker x x shutdown x x invalid input detected marker\n",
      "cfg errorwrong license attached x serial number order shw however license provided hw serial number hw\n",
      "cfg errorunit hw ex efl license installed\n",
      "cfg errorplease informed order hold due confirmation require staging configuration file x config file specified add command startup running configuration kindly review attached capture file advice good ship\n",
      "cfg errorrouter conf net host network configuration file host command replaced command copy url system running config address name remote host source filename router confg work cfg configure using tftp work cfg confirm loading work cfg via gigabitethernet ok byte boot system flash bootflash isr universalk spa bin invalid input detected marker\n",
      "cfg missingcfg missing line console login prompt\n",
      "cfg errorcol pf gz admin kyn config ssh int blu prod x x error invalid input detected marker x col pf gz admin kyn config ssh int blu prod x x error invalid input detected marker x col pf gz admin kyn config ssh int blu prod x x error invalid input detected marker x col pf gz admin kyn config ssh int blu prod x x error invalid input detected marker x col pf gz admin kyn config ssh int blu prod x x error invalid input detected marker x col pf gz admin kyn config ssh int blu prod x x error invalid input detected marker x col pf gz admin kyn config ssh int blu prod x x error invalid input detected marker x col pf gz admin kyn config ssh int blu prod x x error invalid input detected marker\n",
      "cfg errorthe kept banner fine staging config sure coming\n",
      "cfg errorios ver mismatch cfg sdp file\n",
      "cfg errorswitch conf net x host network configuration file host x command replaced command x copy url system running config x address name remote host x source filename switch confg work txt x configure using tftp work txt confirm x loading work txt via gigabitethernet x ok byte x x ip domain lookup x x invalid input detected marker x x interface vlan set default configuration x management interface vrf cannot changed\n",
      "cfg errorcfg error\n",
      "cfg errorip flow ingres invalid input detected marker duplex auto invalid input detected marker speed auto invalid input detected marker ip flow ingres invalid input detected marker ip flow ingres invalid input detected marker ip flow ingres invalid input detected marker ip flow ingres invalid input detected marker ip flow ingres invalid input detected marker ip flow ingres invalid input detected marker ip flow ingres invalid input detected marker ip flow ingres invalid input detected marker ip flow ingres invalid input detected marker ip flow ingres invalid input detected marker ip accounting output packet invalid input detected marker ip flow ingres invalid input detected marker\n",
      "cfg errorinterface gigabitethernet x x invalid input detected marker x x description unused interface x x invalid input detected marker x x shutdown x x invalid input detected marker x x ip flow capture ttl x x invalid input detected marker x x ip flow cache timeout active x x invalid input detected marker x x output feature x x invalid input detected marker x x interface gigabitethernet x x invalid input detected marker x x ip access group dmz x x invalid input detected marker\n",
      "cfg errorcfg file error\n",
      "cfg error config take effect next reboot interface gigabitethernet invalid input detected marker description unused interface invalid input detected marker shutdown invalid input detected marker ip flow capture ttl invalid input detected marker ip flow cache timeout active invalid input detected marker output feature invalid input detected marker shut invalid input detected marker bandwidth ip address invalid input detected marker invalid input detected marker tunnel protection ipsec profile dp dlaw offnet shared invalid input detected marker\n",
      "cfg errorrouter conf net x host network configuration file host x command replaced command x copy url system running config x address name remote host x source filename router confg work cfg x configure using tftp work cfg confirm x loading work cfg via gigabitethernet x ok byte x x hostname gtadfcsbroalumga legal lat node name using cisco ce config take effect next reboot x x interface gigabitethernet x x invalid input detected marker x x description unused interface x x invalid input detected marker x x shutdown x x invalid input detected marker x x ip flow monitor export netprofiler input x x invalid input detected marker x x ip flow monitor export netprofiler output x x invalid input detected marker x x ip flow capture ttl x x invalid input detected marker x x ip flow cache timeout active x x invalid input detected marker x x output feature x x invalid input detected marker x matching route delete\n",
      "cfg errorsource filename router confg work txt x configure using tftp work txt confirm x loading work txt via gigabitethernet x ok byte x x speed x x invalid input detected marker x x router bgp bgp asn x x invalid input detected marker x x neighbor soft reconfiguration inbound x x invalid input detected marker x x neighbor send community x x invalid input detected marker x x neighbor route map avpn x x invalid input detected marker x x neighbor route map avpn\n",
      "cfg errorip flow ingres invalid input detected marker ip flow ingres invalid input detected marker ip flow ingres\n",
      "cfg errorcfg error byte total byte free router conf net host network configuration file host command replaced command copy url system running config address name remote host source filename router confg work isr backup txt configure using tftp work isr backup txt confi rm loading work isr backup txt via gigabitether net ok byte please write mem reload config take effect next reboot interface gigabitethernet invalid input detected marker description b b interface invalid input detected marker ip address invalid input detected marker medium type rj invalid input detected marker shutdown invalid input detected marker sep utc sys log config change buffer logging level debugg ing xml disabled filtering disabled size inwilacoi r sep utc lineproto updown line protocol interface loopba ck changed state sep utc sys config p configured programmatically proces exec console console sep utc sys config configured tftp work isr backup txt console inwilacoi r\n",
      "cfg error byte total byte free router conf net host network configuration file host command replaced command copy url system running config address name remote host source filename router confg work isr primary txt configure using tftp work isr primary txt conf irm loading work isr primary txt via gigabitethe rnet ok byte please write mem reload config take effect next reboot gigabitethernet changing medium rj gigabitethernet changing medium rj set community additive invalid input detected marker set community additive invalid input detected marker insatyban r\n",
      "cfg errorplease informed order hold due shortage firmware staging configuration file part asb rma glb sdp doc\n",
      "cfg errormissing cfg sdp\n",
      "cfg errorthe following issue found staging loading cfg file following invalid highlighted red displayed source filename router confg work cfg configure using tftp work cfg confirm loading work cfg via gigabitethernet ok byte ip tftp source gigabitethernet invalid input detected marker mistra\n",
      "cfg errorcfg invalid router conf net host network configuration file host command replaced command copy url system running config address name remote host source filename router confg work txt configure using tftp work txt confirm error opening tftp work txt file directory router router conf net host network configuration file host command replaced command copy url system running config address name remote host source filename router confg work cfg configure using tftp work cfg confirm loading work cfg via gigabitethernet ok byte ip tftp source source interface gigabitethernet invalid input detected marker\n",
      "cfg errorsource filename router confg work cfg configure using tftp work cfg confirm loading work cfg via gigabitethernet ok byte ip tftp source interface gigabitethernet g invalid input detected marker gigabitethernet changing medium sfp miscre\n",
      "cfg errorconnection closed dtactech vyatta l grep stage adi load stage sh stage cfg xml dtactech vyatta sudo adi load stage sh stage applying stage config take minute patient xml syntax error line invalid character entity semicolon done run time load adi order script completed dtactech vyatta sudo adi stage status sh gathering staging state white box complete review stage status log file show hw serial number hw model g hw n hw uuid fbbdb e e bf f b show hardware dmi\n",
      "cfg errorthe following issue found staging cfg invalid router conf net host network configuration file host command replaced command copy url system running config address name remote host source filename router confg work txt configure using tftp work txt confirm error opening tftp work txt file directory router router conf net host network configuration file host command replaced command copy url system running config address name remote host source filename router confg work cfg configure using tftp work cfg confirm loading work cfg via gigabitethernet ok byte ip tftp source interface gigabitethernet invalid input detected marker\n",
      "cfg errorthe following issue found staging loading cfg file following invalid highlighted red displayed source filename router confg work cfg configure using tftp work cfg confirm loading work cfg via gigabitethernet ok byte ip tftp source interface gigabitethernet invalid input detected marker misbra\n",
      "cfg errorrouter conf net x host network configuration file host x command replaced command x copy url system running config x address name remote host x source filename router confg work cfg x configure using tftp work cfg confirm x loading work cfg via gigabitethernet x ok byte x x ip tftp source interface loopback x x invalid input detected marker\n",
      "cfg errorip tftp source interface loopback x x invalid input detected marker\n",
      "cfg errorcfg contains line ip tftp source interface loopback\n",
      "cfg errorthe following issue found staging loading cfg file following invalid highlighted red displayed router conf net host network configuration file host command replaced command copy url system running config address name remote host source filename router confg work cfg configure using tftp work cfg confirm loading work cfg via gigabitethernet ok byte ip tftp source interface loopback invalid input detected marker\n",
      "cfg errorafter loading new cfg file router conf net host network configuration file host command replaced command copy url system running config address name remote host source filename router confg work cfg configure using tftp work cfg confirm loading work cfg via gigabitethernet ok byte ip tftp source interface gigabitethernet invalid input detected marker misguy jul sys log config change buffer logging level debugging xml disabled filtering disabled size jul sys config configured http tftp work cfg console jul link updown interface gigabitethernet changed state jul link updown interface gigabitethernet changed state jul lineproto updown line protocol interface gigabitethernet changed state jul link updown interface gigabitethernet changed state jul lineproto updown line protocol interface gigabitethernet changed state misguy misguy\n",
      "cfg errorip tftp source interface loopback invalid input detected marker\n",
      "cfg errorip tftp source interface gigabitethernet x x invalid input detected marker\n",
      "cfg errordtactech vyatta l grep stage x adi load stage sh x stage cfg xml x dtactech vyatta sudo adi load stage sh stage x x applying stage config take minute patient x x configuration path resource group address group ag wan lan address valid x x must one following value x x x x x x x x x h h h h h h h h h h h h h h h h x x value validation failed x x set failed\n",
      "cfg missingrouter conf net x host network configuration file host x command replaced command x copy url system running config x address name remote host x source filename router confg work cfg x configure using tftp work cfg confirm x loading work cfg via gigabitethernet x ok byte x x ip tftp source interface gigabitethernet x x invalid input detected marker\n",
      "cfg errorsource filename router confg work cfg x configure using tftp work cfg confirm x loading work cfg via gigabitethernet x ok byte x x ip tftp source interface gigabitethernet x x invalid input detected marker x x gigabitethernet changing medium sfp x gigabitethernet changing medium rj x mi mar\n",
      "cfg errorip tftp source interface gigabitethernet invalid input detected marker\n",
      "cfg errordtactech vyatta l grep stage x adi load stage sh x stage cfg xml x dtactech vyatta sudo adi load stage sh stage x x applying stage config take minute patient x x configuration path resource group address group ag wan lan address valid x x must one following value x x x x x x x x x h h h h h h h h h h h h h h h h x x value validation failed x x set failed x x done run time load adi order script completed x\n",
      "cfg errorretry invite invalid input detected marker\n",
      "cfg errorinvalid interface type q\n",
      "cfg errorcfg error x gigabitethernet changing medium rj x retry invite x x invalid input detected marker\n",
      "cfg errorgigabitethernet changing medium rj x protocol mode ipv x x invalid input detected marker x x retry invite\n",
      "cfg errorprotocol mode ipv x x invalid input detected marker x x retry invite x x invalid input detected marker\n",
      "cfg errorretry invite x x invalid input detected marker\n",
      "cfg errorboot system flash bootflash isr universalk spa bin x x invalid input detected marker x clock source line x warning codec built vad cannot disabled x codec negotiated vad configuration disregarded x x gigabitethernet changing medium sfp x protocol mode ipv x x invalid input detected marker x x retry invite x x invalid input detected marker\n",
      "cfg errorconfiguration path interface dataplane dp p address valid x x node requires value x value validation failed x x set failed x x done run time load adi order script completed\n",
      "cfg missingctdi cfg file x ctdi sdp file\n",
      "cfg error applying stage config take minute patient invalid asn strconv parseuint parsing invalid syntax done run time load adi order script completed\n",
      "cfg errorip tftp source interface gigabitethernet\n",
      "cfg error applying stage config take minute patient xml syntax error line expected attribute name element done run time load adi order script completed\n",
      "cfg errorconfiguration path resource group address group ag wan lan address valid must one following value x x x x x x x x x h h h h h h h h h h h h h h h h x value validation failed set failed\n",
      "cfg errorrouter conf net x host network configuration file host x command replaced command x copy url system running config x address name remote host x source filename router confg work ip cfg x configure using tftp work ip cfg confirm x loading work ip cfg via gigabitethernet x ok byte x please write mem reload x config take effect next reboot x x ip tftp source interface gigabitethernet x x invalid input detected marker\n",
      "cfg errorcfg invalid x x router conf net x host network configuration file host x command replaced command x copy url system running config x address name remote host x source filename router confg work ip cfg x configure using tftp work ip cfg confirm x loading work ip cfg via gigabitethernet x ok byte x please write mem reload x config take effect next reboot x x ip tftp source gigabitethernet x x invalid input detected marker\n",
      "cfg errorboot system flash bootflash isr universalk spa bin invalid input detected marker clock source line warning codec built vad cannot disabled codec negotiated vad configuration disregarded gigabitethernet changing medium sfp protocol mode ipv invalid input detected marker retry invite invalid input detected marker\n",
      "cfg errorthe command deprecated use mfib command instead arp frame relay invalid input detected marker arp frame relay\n",
      "cfg errorinstall add file flash cat k iosxe spa bin activate commit invalid input detected marker\n",
      "cfg missingctdi cfg file\n",
      "cfg errorhi issue cfg file password start capitol letter enable secret vapidesi username failsafe privilege password vapidesi\n",
      "cfg error please write mem reload config take effect next reboot ip tftp source interface gigabitethernet invalid input detected marker\n",
      "cfg errorrouter ok conf net host network configuration file host command replaced command copy url system running config address name remote host source filename router confg work cfg configure using tftp work cfg confirm loading work cfg via gigabitethernet ok byte ip domain lookup invalid input detected marker\n",
      "cfg errorboot system flash bootflash isr universalk spa bin invalid input detected marker\n",
      "cfg errorcfg file error ip virtual reassembly invalid input detected marker sh run invalid input detected marker\n",
      "cfg errorinterface gigabitethernet invalid input detected marker interface gigabitethernet invalid input detected marker interface gigabitethernet\n",
      "cfg missingno cfg gps\n",
      "cfg errorunable open cfg file gps\n",
      "cfg error invalid input detected marker config take effect next reboot system reload required templating state change source loopback invalid input detected marker specify remote peer group command first specify remote peer group command first specify remote peer group command first udp jitter source ip num packet interval invalid input detected marker request data size invalid input detected marker tos invalid input detected marker owner vnetdisc jitter ce nap co invalid input detected marker tag att nettn invalid input detected marker threshold invalid input detected marker timeout invalid input detected marker history enhanced interval bucket\n",
      "cfg error labeled ge invalid input detected marker sfp ethernet port invalid input detected marker labeled sfp invalid input detected marker region u invalid input detected marker\n",
      "cfg errorreso pf cbx kyn config interface ethernet error invalid input detected marker reso pf cbx kyn config description suf pf vpb att man kyndryl side error invalid input detected marker reso pf cbx kyn config nameif int blu prod error invalid input detected marker reso pf cbx kyn config security level error invalid input detected marker reso pf cbx kyn config ip address error invalid input detected marker reso pf cbx kyn config shu error incomplete command reso pf cbx kyn config reso pf cbx kyn config reso pf cbx kyn config route int blu prod error invalid input detected marker reso pf cbx kyn config reso pf cbx kyn config ssh scopy enable reso pf cbx kyn config ssh stricthostkeycheck reso pf cbx kyn config ssh int blu prod error invalid input detected marker reso pf cbx kyn config ssh int blu prod error invalid input detected marker reso pf cbx kyn config ssh int blu prod error invalid input detected marker configuration last modified enable utc wed dec\n",
      "cfg errorsame issue viptela mips tar gz vedge request software install ftp viptela mips tar gz reboot vpn ftp viptela mips tar gz viptela mips tar gz connecting connected logging anonymous logged syst done pwd done type done cwd needed size viptela mips tar gz pasv done retr viptela mips tar gz done length unauthoritative mb mb viptela mips tar gz saved error kernel image found\n",
      "cfg errorthe following issue found staging source filename router confg work cfg configure using tftp work cfg confirm loading work cfg via gigabitethernet ok byte please write mem reload config take effect next reboot ip tftp source interface gigabitethernet invalid input detected marker gigabitethernet changing medium sfp gigabitethernet changing medium rj misarm\n",
      "cfg errorgigabitethernet invalid input detected marker gigabitethernet invalid input detected marker duplex auto invalid input detected marker speed auto invalid input detected marker gigabitethernet invalid input detected marker duplex auto invalid input detected marker speed auto invalid input detected marker neighbor e f fa update source serial invalid input detected marker\n",
      "cfg error kb home admin tmp johd dd va temp config saved vedge config commit aborted vpn interface ge name invalid interface ge specified vedge config vedge config end uncommitted change found commit yes cancel vedge\n",
      "cfg error hostname gtadcaxcentatlga legal lat node name using cisco dc e config take effect next reboot destination invalid input detected marker\n",
      "cfg errorip cef invalid input detected marker\n",
      "cfg missingunable open cfg file gps\n",
      "cfg errorboot system flash bootflash isr universalk spa bin invalid input detected marker clock source line clock source line warning codec built vad cannot disabled codec negotiated vad configuration disregarded find controller controller invalid input detected marker clock source line primary invalid input detected marker framing esf invalid input detected marker linecode b z invalid input detected marker pri group timeslots invalid input detected marker shutdown invalid input detected marker\n",
      "cfg errorcfg error ip flow monitor glsflowmonitor input invalid input detected marker ip flow monitor glsflowmonitor output invalid input detected marker ip virtual reassembly invalid input detected marker sh run invalid input detected marker please use snmp server file transfer access group acl protocol tftp ftp sftp rcp scp snmp server enable trap mpls rfc ldp invalid input detected marker snmp server enable trap mpls fast reroute protected invalid input detected marker snmp server enable trap sonet invalid input detected marker snmp server enable trap dlsw invalid input detected marker cannot find community w rldclass\n",
      "cfg errorstatic ip error\n",
      "cfg errorinterface hundredgige invalid input detected marker description connection wan invalid input detected marker negotiation auto invalid input detected marker ip address invalid input detected marker ip access group inb serial invalid input detected marker ip redirects invalid input detected marker ip unreachables invalid input detected marker ip proxy arp invalid input detected marker ip mfib forwarding input invalid input detected marker ip mfib cef input invalid input detected marker ip mfib cef output invalid input detected marker ipv enable invalid input detected marker ipv address c c c invalid input detected marker ipv redirects invalid input detected marker ipv unreachables invalid input detected marker ipv mfib forwarding input invalid input detected marker ipv mfib cef input invalid input detected marker ipv mfib cef output invalid input detected marker ipv traffic filter inb serial v invalid input detected marker cdp enable invalid input detected marker shutdown\n",
      "cfg error invalid input detected marker output feature invalid input detected marker ip address secondary ip helper address invalid input detected marker\n",
      "cfg errorcfg error configuration path interface switch sw vif address valid must one following value dhcp dhcpv x x x x x h h h h h h h h x value validation failed set failed\n",
      "cfg errorip flow monitor export netprofiler input invalid input detected marker ip flow monitor export netprofiler output invalid input detected marker ip flow capture ttl invalid input detected marker ip flow cache timeout active invalid input detected marker\n",
      "cfg missingno cfg file gps replacement order rep sdp ask staging txt hostname dhligyraz\n",
      "cfg erroraborted interface gigabitethernet ip address value configuring ip routing lan subinterface allowed subinterface already configured part ieee ieee q sl vlan\n",
      "cfg errormedia type sfp invalid input detected marker network e ee invalid input detected marker aggregate address e ee summary invalid input detected marker\n",
      "cfg errorhold queue invalid input detected marker ip flow cache timeout inactive invalid input detected marker ip flow cache timeout active invalid input detected marker ip flow export source loopback invalid input detected marker ip flow export version origin invalid input detected marker ip flow export destination invalid input detected marker name key sshkey key modulus size bit generating bit rsa key key non exportable ok elapsed time second\n",
      "cfg missingwe missing config file order please sent u soon possible\n",
      "cfg errorunable download cfg gps\n",
      "cfg errorbind control source interface loopback invalid input detected marker bind medium source interface loopback ip tftp source interface loopback invalid input detected marker\n",
      "cfg errorbind control source interface loopback invalid input detected marker bind medium source interface loopback invalid input detected marker warning codec built vad cannot disabled codec negotiated vad configuration disregarded ip tftp source interface loopback invalid input detected marker\n",
      "cfg errorwarning vlan name length exceeded recommended length character ip default gateway invalid input detected marker\n",
      "cfg error txt k kb mb home admin tmp xn w htndd temp config saved vedge config commit quit aborted illegal reference vpn router bgp neighbor address family ipv unicast route policy vedge config\n",
      "cfg errorip multicast routing distributed invalid input detected marker interface vlan set default configuration management interface vrf cannot changed error seen setting interface gigabitethernet default config warning vlan name length exceeded recommended length character jan sys log config change buffer logging level debugging xml disabled filtering disabled size jan sys log config change monitor logging level informational xml disabled filtering disabled jan sys config p configured programmatically process exec console console jan sys config p configured programmatically process exec console console switchport trunk encapsulation dot q invalid input detected marker creating port channel interface port channel switchport trunk encapsulation dot q invalid input detected marker creating port channel interface port channel switchport trunk encapsulation dot q invalid input detected marker creating port channel interface port channel switchport trunk encapsulation dot q invalid input detected marker creating port channel interface port channel switchport trunk encapsulation dot q invalid input detected marker creating port channel interface port channel switchport trunk encapsulation dot q invalid input detected marker creating port channel interface port channel switchport trunk encapsulation dot q invalid input detected marker creating port channel interface port channel switchport trunk encapsulation dot q invalid input detected marker creating port channel interface port channel switchport trunk encapsulation dot q invalid input detected marker creating port channel interface port channel switchport trunk encapsulation dot q invalid input detected marker creating port channel interface port channel switchport trunk encapsulation dot q invalid input detected marker creating port channel interface port channel switchport trunk encapsulation dot q invalid input detected marker creating port channel interface port channel access vlan exist creating vlan duplex full invalid input detected marker\n",
      "cfg errorhello appxk activate allowed edit cfg file please adjust cfg file following correction reverse original cfg know appxk activate router license accept end user agreement license boot level appxk also perf license activated also please add following line cfg reboot take effect platform hardware throughput level\n",
      "cfg missingctdi static ip stage order please review advise\n",
      "cfg errorcfg error log packet overrun pc x faa format user logged command username failsafe failsafe secret vapidesi invalid input detected marker\n",
      "cfg missingthe cfg file attached gps sr file naming convention therefore unable figure cfg file use also host name sdp k f wc c kyn would present hostname mismatch cfg sdp please correct file naming cfg file sr adjust host name match sdp vice versa match please attach correct file via reply\n",
      "cfg missingwe config gps\n",
      "cfg errorcfg file error invalid input detected marker output feature invalid input detected marker ip prefix list dmvpn permit vlan secondary invalid input detected marker\n",
      "cfg errorcfg file error configuration path resource group address group ag wan lan address x valid must one following value x x x x x x x x x h h h h h h h h h h h h h h h h x value validation failed set failed done run time load adi order script completed\n",
      "cfg errorconfiguration error found red please attached correct cfg file reply source filename switch confg work txtwork txt work txt configure using tftp work txt confirm loading work txt via gigabitethernet ok byte ip domain lookup invalid input detected marker vlan internal allocation policy ascending invalid input detected marker interface gigabitethernet invalid input detected marker description customer lan invalid input detected marker switchport invalid input detected marker bandwidth invalid input detected marker ip address invalid input detected marker ip helper address invalid input detected marker ip helper address invalid input detected marker load interval invalid input detected marker keepalive invalid input detected marker cdp enable invalid input detected marker shut invalid input detected marker\n",
      "cfg errorcfg error summary address invalid input detected marker redistribute connected metric type subnets invalid input detected marker passive interface default invalid input detected marker passive interface vlan invalid input detected marker network area invalid input detected marker\n",
      "cfg errorstaging hold order asa firepower two seems correct hostname warning banner sr sr order missing host name cfg file also missing warning banner cfg file question asdm image also required loaded specified sdp dial test console port test oob access hostname banner password prompted password upon dial line con password applied cfg file\n",
      "cfg errorthe following issue found staging unable access vnf tab retrieve vnf information\n",
      "cfg missingunable find cfg gps\n",
      "cfg errorcfg error platform hardware throughput crypto invalid input detected marker\n",
      "cfg errorcfg error bandwidth encapsulation dot q invalid input detected marker\n",
      "Enter the filtered(specific) combination of hold code & hold issue:cfg errorwrong config file x order xdc u router\n",
      "Recommendations: [array(['UPDATED CFG FILE'], dtype='<U23')]\n"
     ]
    }
   ],
   "source": [
    "recommendation = []\n",
    "n=input(\"Enter the combination of hold code & hold issue:\")\n",
    "\n",
    "for i in (final_df2['holdCode_holdIssue'].unique()):\n",
    "   \n",
    " if n[:3] == i[:3]:\n",
    "     print(i)\n",
    "    \n",
    "     def make_recommendations(m,Accuracy_filter=None):\n",
    "      text_vec = vectorizer.transform([m])\n",
    "      pred = clf.predict(text_vec)\n",
    "      recommendation.append(pred)\n",
    "\n",
    "# Example usage with multiple filters\n",
    "#text = \"MFG\"\n",
    "m=input(\"Enter the filtered(specific) combination of hold code & hold issue:\")\n",
    "Accuracy_filter = 0.8\n",
    "make_recommendations(m, Accuracy_filter=Accuracy_filter)\n",
    "print('Recommendations:', recommendation)"
   ]
  },
  {
   "cell_type": "code",
   "execution_count": null,
   "id": "e900efe8",
   "metadata": {},
   "outputs": [],
   "source": []
  }
 ],
 "metadata": {
  "kernelspec": {
   "display_name": "Python 3 (ipykernel)",
   "language": "python",
   "name": "python3"
  },
  "language_info": {
   "codemirror_mode": {
    "name": "ipython",
    "version": 3
   },
   "file_extension": ".py",
   "mimetype": "text/x-python",
   "name": "python",
   "nbconvert_exporter": "python",
   "pygments_lexer": "ipython3",
   "version": "3.9.13"
  }
 },
 "nbformat": 4,
 "nbformat_minor": 5
}
